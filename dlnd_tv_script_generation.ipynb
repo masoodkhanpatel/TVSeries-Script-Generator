{
  "nbformat": 4,
  "nbformat_minor": 0,
  "metadata": {
    "colab": {
      "name": "dlnd_tv_script_generation.ipynb",
      "version": "0.3.2",
      "provenance": []
    },
    "kernelspec": {
      "name": "python3",
      "display_name": "Python 3"
    },
    "accelerator": "GPU"
  },
  "cells": [
    {
      "metadata": {
        "id": "view-in-github",
        "colab_type": "text"
      },
      "cell_type": "markdown",
      "source": [
        "<a href=\"https://colab.research.google.com/github/resilientmax/TVSeries-Script-Generator/blob/master/dlnd_tv_script_generation.ipynb\" target=\"_parent\"><img src=\"https://colab.research.google.com/assets/colab-badge.svg\" alt=\"Open In Colab\"/></a>"
      ]
    },
    {
      "metadata": {
        "id": "11h8mUjrtsBW",
        "colab_type": "code",
        "outputId": "9ca93547-60c8-4b7e-915a-5d59eeb2aeea",
        "colab": {
          "base_uri": "https://localhost:8080/",
          "height": 34
        }
      },
      "cell_type": "code",
      "source": [
        "# Downloading the necessary files\n",
        "import os\n",
        "from IPython.display import clear_output\n",
        "\n",
        "if not os.path.isdir('data'):\n",
        "    os.mkdir('data')\n",
        "!wget -cq -O data/Seinfeld_Scripts.txt https://raw.githubusercontent.com/udacity/deep-learning-v2-pytorch/master/project-tv-script-generation/data/Seinfeld_Scripts.txt\n",
        "!wget -cq -O problem_unittests.py https://raw.githubusercontent.com/udacity/deep-learning-v2-pytorch/master/project-tv-script-generation/problem_unittests.py\n",
        "!wget -cq -O helper.py https://raw.githubusercontent.com/udacity/deep-learning-v2-pytorch/master/project-tv-script-generation/helper.py\n",
        "clear_output()  \n",
        "print(\"Files Downloaded Successfully\")  "
      ],
      "execution_count": 0,
      "outputs": [
        {
          "output_type": "stream",
          "text": [
            "Files Downloaded Successfully\n"
          ],
          "name": "stdout"
        }
      ]
    },
    {
      "metadata": {
        "id": "2WL3KZOptofs",
        "colab_type": "code",
        "colab": {}
      },
      "cell_type": "code",
      "source": [
        "# load in data\n",
        "import helper\n",
        "data_dir = './data/Seinfeld_Scripts.txt'\n",
        "text = helper.load_data(data_dir)"
      ],
      "execution_count": 0,
      "outputs": []
    },
    {
      "metadata": {
        "id": "eEX60tpLtof8",
        "colab_type": "text"
      },
      "cell_type": "markdown",
      "source": [
        "## Explore the Data"
      ]
    },
    {
      "metadata": {
        "id": "8FLHfATxtof_",
        "colab_type": "code",
        "outputId": "0eaa480c-4c89-4b89-814c-00247e52ab12",
        "colab": {
          "base_uri": "https://localhost:8080/",
          "height": 315
        }
      },
      "cell_type": "code",
      "source": [
        "view_line_range = (0, 10)\n",
        "\n",
        "import numpy as np\n",
        "\n",
        "print('Dataset Stats')\n",
        "print('Roughly the number of unique words: {}'.format(len({word: None for word in text.split()})))\n",
        "\n",
        "lines = text.split('\\n')\n",
        "print('Number of lines: {}'.format(len(lines)))\n",
        "word_count_line = [len(line.split()) for line in lines]\n",
        "print('Average number of words in each line: {}'.format(np.average(word_count_line)))\n",
        "\n",
        "print()\n",
        "print('The lines {} to {}:'.format(*view_line_range))\n",
        "print('\\n'.join(text.split('\\n')[view_line_range[0]:view_line_range[1]]))"
      ],
      "execution_count": 0,
      "outputs": [
        {
          "output_type": "stream",
          "text": [
            "Dataset Stats\n",
            "Roughly the number of unique words: 46367\n",
            "Number of lines: 109233\n",
            "Average number of words in each line: 5.544240293684143\n",
            "\n",
            "The lines 0 to 10:\n",
            "jerry: do you know what this is all about? do you know, why were here? to be out, this is out...and out is one of the single most enjoyable experiences of life. people...did you ever hear people talking about we should go out? this is what theyre talking about...this whole thing, were all out now, no one is home. not one person here is home, were all out! there are people trying to find us, they dont know where we are. (on an imaginary phone) did you ring?, i cant find him. where did he go? he didnt tell me where he was going. he must have gone out. you wanna go out you get ready, you pick out the clothes, right? you take the shower, you get all ready, get the cash, get your friends, the car, the spot, the reservation...then youre standing around, what do you do? you go we gotta be getting back. once youre out, you wanna get back! you wanna go to sleep, you wanna get up, you wanna go out again tomorrow, right? where ever you are in life, its my feeling, youve gotta go. \n",
            "\n",
            "jerry: (pointing at georges shirt) see, to me, that button is in the worst possible spot. the second button literally makes or breaks the shirt, look at it. its too high! its in no-mans-land. you look like you live with your mother. \n",
            "\n",
            "george: are you through? \n",
            "\n",
            "jerry: you do of course try on, when you buy? \n",
            "\n",
            "george: yes, it was purple, i liked it, i dont actually recall considering the buttons. \n",
            "\n"
          ],
          "name": "stdout"
        }
      ]
    },
    {
      "metadata": {
        "id": "BiaOO0jDtogN",
        "colab_type": "text"
      },
      "cell_type": "markdown",
      "source": [
        "---\n",
        "## Implement Pre-processing Functions\n",
        "\n",
        "\n",
        "### Lookup Table"
      ]
    },
    {
      "metadata": {
        "id": "uyyoLHxXtogR",
        "colab_type": "code",
        "outputId": "23b7cbf0-5e42-4e54-bba4-c5382afc56fa",
        "colab": {
          "base_uri": "https://localhost:8080/",
          "height": 34
        }
      },
      "cell_type": "code",
      "source": [
        "import problem_unittests as tests\n",
        "from collections import Counter\n",
        "\n",
        "def create_lookup_tables(text):\n",
        "    \"\"\"\n",
        "    lookup tables for vocabulary\n",
        "    :param text: The text of tv scripts split into words\n",
        "    :return: A tuple of dicts (vocab_to_int, int_to_vocab)\n",
        "    \"\"\"\n",
        "       \n",
        "    word_counts = Counter(text)\n",
        "    \n",
        "    # sorting the words from most to least frequent in text occurrence\n",
        "    sorted_vocab = sorted(word_counts, key=word_counts.get, reverse=True)\n",
        "    \n",
        "    # create int_to_vocab and vocab_to_int dictionaries\n",
        "    int_to_vocab = {ii: word for ii, word in enumerate(sorted_vocab)}\n",
        "    vocab_to_int = {word: ii for ii, word in enumerate(sorted_vocab)}\n",
        "\n",
        "    # return tuple\n",
        "    return vocab_to_int, int_to_vocab    \n",
        "\n",
        "\n",
        "tests.test_create_lookup_tables(create_lookup_tables)"
      ],
      "execution_count": 0,
      "outputs": [
        {
          "output_type": "stream",
          "text": [
            "Tests Passed\n"
          ],
          "name": "stdout"
        }
      ]
    },
    {
      "metadata": {
        "id": "zbJ2zy2Mtoga",
        "colab_type": "text"
      },
      "cell_type": "markdown",
      "source": [
        "### Tokenize Punctuation\n"
      ]
    },
    {
      "metadata": {
        "id": "0NgYJFvctogd",
        "colab_type": "code",
        "outputId": "e197d1e4-7796-45b0-c252-56a7abe791b3",
        "colab": {
          "base_uri": "https://localhost:8080/",
          "height": 34
        }
      },
      "cell_type": "code",
      "source": [
        "def token_lookup():\n",
        "    \"\"\"\n",
        "    Generate a dict to turn punctuation into a token.\n",
        "    :return: Tokenized dictionary where the key is the punctuation and the value is the token\n",
        "    \"\"\"\n",
        "        \n",
        "    tokenized_dict = {\n",
        "                '.' : '||period||',\n",
        "                ',' : '||comma||',\n",
        "                '\"' : '||quotation_mark||',\n",
        "                ';' : '||semicolon||',\n",
        "                '!' : '||exclamation_mark||',\n",
        "                '?' : '||question_mark||',\n",
        "                '(' : '||left_parentheses||',\n",
        "                ')' : '||right_parentheses||',\n",
        "                '-' : '||dash||',\n",
        "                '\\n' : '||return||',\n",
        "             }\n",
        "    \n",
        "    return tokenized_dict\n",
        "\n",
        "tests.test_tokenize(token_lookup)"
      ],
      "execution_count": 0,
      "outputs": [
        {
          "output_type": "stream",
          "text": [
            "Tests Passed\n"
          ],
          "name": "stdout"
        }
      ]
    },
    {
      "metadata": {
        "id": "bs8aw_Wstogj",
        "colab_type": "text"
      },
      "cell_type": "markdown",
      "source": [
        "## Pre-process all the data and save it\n"
      ]
    },
    {
      "metadata": {
        "id": "84cAX5Rvtogm",
        "colab_type": "code",
        "colab": {}
      },
      "cell_type": "code",
      "source": [
        "\n",
        "# pre-process training data\n",
        "helper.preprocess_and_save_data(data_dir, token_lookup, create_lookup_tables)"
      ],
      "execution_count": 0,
      "outputs": []
    },
    {
      "metadata": {
        "id": "HnUAhMYZtog0",
        "colab_type": "text"
      },
      "cell_type": "markdown",
      "source": [
        "# Check Point"
      ]
    },
    {
      "metadata": {
        "id": "3ci3lOFPtog2",
        "colab_type": "code",
        "colab": {}
      },
      "cell_type": "code",
      "source": [
        "import helper\n",
        "import problem_unittests as tests\n",
        "\n",
        "int_text, vocab_to_int, int_to_vocab, token_dict = helper.load_preprocess()"
      ],
      "execution_count": 0,
      "outputs": []
    },
    {
      "metadata": {
        "id": "-zi5aYBUtohE",
        "colab_type": "text"
      },
      "cell_type": "markdown",
      "source": [
        "## Build the Neural Network\n",
        "\n",
        "### Check Access to GPU"
      ]
    },
    {
      "metadata": {
        "id": "Bm0NeOFztohH",
        "colab_type": "code",
        "colab": {}
      },
      "cell_type": "code",
      "source": [
        "\n",
        "import torch\n",
        "\n",
        "# Check for a GPU\n",
        "train_on_gpu = torch.cuda.is_available()\n",
        "if not train_on_gpu:\n",
        "    print('No GPU found. Please use a GPU to train your neural network.')"
      ],
      "execution_count": 0,
      "outputs": []
    },
    {
      "metadata": {
        "id": "n3crl1hAtohX",
        "colab_type": "text"
      },
      "cell_type": "markdown",
      "source": [
        "## Input\n",
        "\n",
        "### Batching"
      ]
    },
    {
      "metadata": {
        "id": "KZT2Pi98toha",
        "colab_type": "code",
        "colab": {}
      },
      "cell_type": "code",
      "source": [
        "from torch.utils.data import TensorDataset, DataLoader\n",
        "\n",
        "\n",
        "def batch_data(words, sequence_length, batch_size):\n",
        "    \"\"\"\n",
        "    Batch the neural network data using DataLoader\n",
        "    :param words: The word ids of the TV scripts\n",
        "    :param sequence_length: The sequence length of each batch\n",
        "    :param batch_size: The size of each batch; the number of sequences in a batch\n",
        "    :return: DataLoader with batched data\n",
        "    \"\"\"\n",
        "       \n",
        "    n_batches = len(words)//batch_size\n",
        "    \n",
        "    # only full batches\n",
        "    words = words[:n_batches*batch_size]\n",
        "       \n",
        "    x, y = [], []\n",
        "    for idx in range(0, len(words) - sequence_length):\n",
        "        x.append(words[idx:idx+sequence_length])\n",
        "        y.append(words[idx+sequence_length])\n",
        "    feature_tensors, target_tensors = torch.from_numpy(np.asarray(x)), torch.from_numpy(np.asarray(y))\n",
        "    data = TensorDataset(feature_tensors, target_tensors)\n",
        "    data_loader = torch.utils.data.DataLoader(data, batch_size=batch_size)\n",
        "    # return a dataloader\n",
        "    return data_loader\n"
      ],
      "execution_count": 0,
      "outputs": []
    },
    {
      "metadata": {
        "id": "0o9AB3Jjtohg",
        "colab_type": "text"
      },
      "cell_type": "markdown",
      "source": [
        "### Test dataloader "
      ]
    },
    {
      "metadata": {
        "id": "6Xr0esoPtohh",
        "colab_type": "code",
        "outputId": "8b3b392a-942e-4224-a7b2-f07f3d79c772",
        "colab": {
          "base_uri": "https://localhost:8080/",
          "height": 260
        }
      },
      "cell_type": "code",
      "source": [
        "# test dataloader\n",
        "\n",
        "test_text = range(50)\n",
        "t_loader = batch_data(test_text, sequence_length=5, batch_size=10)\n",
        "\n",
        "data_iter = iter(t_loader)\n",
        "sample_x, sample_y = data_iter.next()\n",
        "\n",
        "print(sample_x.shape)\n",
        "print(sample_x)\n",
        "print()\n",
        "print(sample_y.shape)\n",
        "print(sample_y)"
      ],
      "execution_count": 0,
      "outputs": [
        {
          "output_type": "stream",
          "text": [
            "torch.Size([10, 5])\n",
            "tensor([[ 0,  1,  2,  3,  4],\n",
            "        [ 1,  2,  3,  4,  5],\n",
            "        [ 2,  3,  4,  5,  6],\n",
            "        [ 3,  4,  5,  6,  7],\n",
            "        [ 4,  5,  6,  7,  8],\n",
            "        [ 5,  6,  7,  8,  9],\n",
            "        [ 6,  7,  8,  9, 10],\n",
            "        [ 7,  8,  9, 10, 11],\n",
            "        [ 8,  9, 10, 11, 12],\n",
            "        [ 9, 10, 11, 12, 13]])\n",
            "\n",
            "torch.Size([10])\n",
            "tensor([ 5,  6,  7,  8,  9, 10, 11, 12, 13, 14])\n"
          ],
          "name": "stdout"
        }
      ]
    },
    {
      "metadata": {
        "id": "0Gb-qrwltohr",
        "colab_type": "text"
      },
      "cell_type": "markdown",
      "source": [
        "---\n",
        "## Build the Neural Network\n",
        "```"
      ]
    },
    {
      "metadata": {
        "id": "L-zSQB_Vtohu",
        "colab_type": "code",
        "outputId": "f53f924c-af9b-4ce5-8465-38417b04c7ef",
        "colab": {
          "base_uri": "https://localhost:8080/",
          "height": 34
        }
      },
      "cell_type": "code",
      "source": [
        "import torch.nn as nn\n",
        "\n",
        "class RNN(nn.Module):\n",
        "    \n",
        "    def __init__(self, vocab_size, output_size, embedding_dim, hidden_dim, n_layers, dropout=0.5):\n",
        "        \"\"\"\n",
        "        Initialize the PyTorch RNN Module\n",
        "        :param vocab_size: The number of input dimensions of the neural network (the size of the vocabulary)\n",
        "        :param output_size: The number of output dimensions of the neural network\n",
        "        :param embedding_dim: The size of embeddings, should you choose to use them        \n",
        "        :param hidden_dim: The size of the hidden layer outputs\n",
        "        :param dropout: dropout to add in between LSTM/GRU layers\n",
        "        \"\"\"\n",
        "        super(RNN, self).__init__()\n",
        "        # Implement function\n",
        "        \n",
        "        # set class variables\n",
        "        self.output_size = output_size\n",
        "        self.n_layers = n_layers\n",
        "        self.hidden_dim = hidden_dim\n",
        "        \n",
        "        # define model layers\n",
        "        \n",
        "        # embedding and LSTM layers\n",
        "        self.embedding = nn.Embedding(vocab_size, embedding_dim)\n",
        "        self.lstm = nn.LSTM(embedding_dim, hidden_dim, n_layers, \n",
        "                            dropout=dropout, batch_first=True)\n",
        "                \n",
        "        # linear layer\n",
        "        self.fc = nn.Linear(hidden_dim, output_size)\n",
        "    \n",
        "    def forward(self, nn_input, hidden):\n",
        "        \"\"\"\n",
        "        Forward propagation of the neural network\n",
        "        :param nn_input: The input to the neural network\n",
        "        :param hidden: The hidden state        \n",
        "        :return: Two Tensors, the output of the neural network and the latest hidden state\n",
        "        \"\"\"\n",
        "        # Implement function  \n",
        "        \n",
        "        batch_size = nn_input.size(0)\n",
        "\n",
        "        # convert to the long integer object\n",
        "        nn_input = nn_input.long()\n",
        "        \n",
        "        # embeddings and lstm_out\n",
        "        embeds = self.embedding(nn_input)\n",
        "        lstm_out, hidden = self.lstm(embeds, hidden)\n",
        "    \n",
        "        # stack up lstm outputs\n",
        "        lstm_out = lstm_out.contiguous().view(-1, self.hidden_dim)\n",
        "        \n",
        "        # dropout and fully-connected layer\n",
        "        out = self.fc(lstm_out)\n",
        "        \n",
        "        # reshape into (batch_size, seq_length, output_size)\n",
        "        out = out.view(batch_size, -1, self.output_size)\n",
        "        \n",
        "        # get last batch\n",
        "        out = out[:, -1]\n",
        "\n",
        "        # return one batch of output word scores and the hidden state\n",
        "        return out, hidden    \n",
        "    \n",
        "    def init_hidden(self, batch_size):\n",
        "        '''\n",
        "        Initialize the hidden state of an LSTM/GRU\n",
        "        :param batch_size: The batch_size of the hidden state\n",
        "        :return: hidden state of dims (n_layers, batch_size, hidden_dim)\n",
        "        '''\n",
        "        # Implement function\n",
        "        \n",
        "        # initialize hidden state with zero weights, and move to GPU if available\n",
        "        weight = next(self.parameters()).data\n",
        "        \n",
        "        if (train_on_gpu):\n",
        "            hidden = (weight.new(self.n_layers, batch_size, self.hidden_dim).zero_().cuda(),\n",
        "                  weight.new(self.n_layers, batch_size, self.hidden_dim).zero_().cuda())\n",
        "        else:\n",
        "            hidden = (weight.new(self.n_layers, batch_size, self.hidden_dim).zero_(),\n",
        "                      weight.new(self.n_layers, batch_size, self.hidden_dim).zero_())\n",
        "        \n",
        "        return hidden\n",
        "\n",
        "tests.test_rnn(RNN, train_on_gpu)"
      ],
      "execution_count": 0,
      "outputs": [
        {
          "output_type": "stream",
          "text": [
            "Tests Passed\n"
          ],
          "name": "stdout"
        }
      ]
    },
    {
      "metadata": {
        "id": "Ry_jG7lHtoh8",
        "colab_type": "text"
      },
      "cell_type": "markdown",
      "source": [
        "### Define forward and backpropagation"
      ]
    },
    {
      "metadata": {
        "id": "fpmuoeWrtoh-",
        "colab_type": "code",
        "outputId": "72143278-388b-4b28-ce18-701d3095641b",
        "colab": {
          "base_uri": "https://localhost:8080/",
          "height": 34
        }
      },
      "cell_type": "code",
      "source": [
        "def forward_back_prop(rnn, optimizer, criterion, inp, target, hidden):\n",
        "    \"\"\"\n",
        "    Forward and backward propagation on the neural network\n",
        "    :param rnn: The PyTorch Module that holds the neural network\n",
        "    :param optimizer: The PyTorch optimizer for the neural network\n",
        "    :param criterion: The PyTorch loss function\n",
        "    :param inp: A batch of input to the neural network\n",
        "    :param target: The target output for the batch of input\n",
        "    :return: The loss and the latest hidden state Tensor\n",
        "    \"\"\"\n",
        "        \n",
        "    # move data to GPU, if available\n",
        "    if(train_on_gpu):\n",
        "        rnn.cuda()\n",
        "        inp, target = inp.cuda(), target.cuda()    \n",
        "        \n",
        "    # Creating new variables for the hidden state, otherwise\n",
        "    # we'd backprop through the entire training history\n",
        "    h = tuple([each.data for each in hidden])\n",
        "    \n",
        "    # zero accumulated gradients\n",
        "    rnn.zero_grad()\n",
        "\n",
        "    # get the output from the model\n",
        "    out, h = rnn(inp, h)\n",
        "    \n",
        "    # calculate the loss and perform backprop\n",
        "    loss = criterion(out, target)\n",
        "    loss.backward()\n",
        "    \n",
        "    # `clip_grad_norm` helps prevent the exploding gradient problem in RNNs / LSTMs.\n",
        "    clip = 5\n",
        "    nn.utils.clip_grad_norm_(rnn.parameters(), clip)\n",
        "    \n",
        "    optimizer.step()\n",
        "\n",
        "    # return the loss over a batch and the hidden state produced by our model\n",
        "    return loss.item(), h\n",
        "\n",
        "tests.test_forward_back_prop(RNN, forward_back_prop, train_on_gpu)"
      ],
      "execution_count": 0,
      "outputs": [
        {
          "output_type": "stream",
          "text": [
            "Tests Passed\n"
          ],
          "name": "stdout"
        }
      ]
    },
    {
      "metadata": {
        "id": "JOzTCjUetoiF",
        "colab_type": "text"
      },
      "cell_type": "markdown",
      "source": [
        "## Neural Network Training\n",
        "\n",
        "\n",
        "### Train Loop"
      ]
    },
    {
      "metadata": {
        "id": "3thBhx7itoiG",
        "colab_type": "code",
        "colab": {}
      },
      "cell_type": "code",
      "source": [
        "def train_rnn(rnn, batch_size, optimizer, criterion, n_epochs, show_every_n_batches=100):\n",
        "    batch_losses = []\n",
        "    \n",
        "    rnn.train()\n",
        "\n",
        "    print(\"Training for %d epoch(s)...\" % n_epochs)\n",
        "    for epoch_i in range(1, n_epochs + 1):\n",
        "        \n",
        "        # initialize hidden state\n",
        "        hidden = rnn.init_hidden(batch_size)\n",
        "        \n",
        "        for batch_i, (inputs, labels) in enumerate(train_loader, 1):\n",
        "            \n",
        "            # make sure you iterate over completely full batches, only\n",
        "            n_batches = len(train_loader.dataset)//batch_size\n",
        "            if(batch_i > n_batches):\n",
        "                break\n",
        "            \n",
        "            # forward, back prop\n",
        "            loss, hidden = forward_back_prop(rnn, optimizer, criterion, inputs, labels, hidden)          \n",
        "            # record loss\n",
        "            batch_losses.append(loss)\n",
        "\n",
        "            # printing loss stats\n",
        "            if batch_i % show_every_n_batches == 0:\n",
        "                print('Epoch: {:>4}/{:<4}  Loss: {}\\n'.format(\n",
        "                    epoch_i, n_epochs, np.average(batch_losses)))\n",
        "                batch_losses = []\n",
        "\n",
        "    # returns a trained rnn\n",
        "    return rnn"
      ],
      "execution_count": 0,
      "outputs": []
    },
    {
      "metadata": {
        "id": "FFXfOz1HtoiT",
        "colab_type": "text"
      },
      "cell_type": "markdown",
      "source": [
        "### Hyperparameters\n"
      ]
    },
    {
      "metadata": {
        "id": "2i7NowRQtoiW",
        "colab_type": "code",
        "colab": {}
      },
      "cell_type": "code",
      "source": [
        "# Data params\n",
        "# Sequence Length\n",
        "sequence_length = 10  # of words in a sequence\n",
        "# Batch Size\n",
        "batch_size = 256\n",
        "# data loader - do not change\n",
        "train_loader = batch_data(int_text, sequence_length, batch_size)"
      ],
      "execution_count": 0,
      "outputs": []
    },
    {
      "metadata": {
        "id": "7Jz90Opytoie",
        "colab_type": "code",
        "colab": {}
      },
      "cell_type": "code",
      "source": [
        "# Training parameters\n",
        "# Number of Epochs\n",
        "num_epochs = 10\n",
        "# Learning Rate\n",
        "learning_rate = 0.001\n",
        "\n",
        "# Model parameters\n",
        "# Vocab size\n",
        "vocab_size = len(vocab_to_int)\n",
        "# Output size\n",
        "output_size = vocab_size\n",
        "# Embedding Dimension\n",
        "embedding_dim = 300\n",
        "# Hidden Dimension\n",
        "hidden_dim = 400\n",
        "# Number of RNN Layers\n",
        "n_layers = 2\n",
        "\n",
        "# Show stats for every n number of batches\n",
        "show_every_n_batches = 3000"
      ],
      "execution_count": 0,
      "outputs": []
    },
    {
      "metadata": {
        "id": "4iStHZnhtoin",
        "colab_type": "text"
      },
      "cell_type": "markdown",
      "source": [
        "### Train"
      ]
    },
    {
      "metadata": {
        "id": "tWDu6YMetoiq",
        "colab_type": "code",
        "outputId": "c7148ccb-6c4c-4955-d429-e40ddded2d57",
        "colab": {
          "base_uri": "https://localhost:8080/",
          "height": 454
        }
      },
      "cell_type": "code",
      "source": [
        "# create model and move to gpu if available\n",
        "rnn = RNN(vocab_size, output_size, embedding_dim, hidden_dim, n_layers, dropout=0.5)\n",
        "if train_on_gpu:\n",
        "    rnn.cuda()\n",
        "\n",
        "# defining loss and optimization functions for training\n",
        "optimizer = torch.optim.Adam(rnn.parameters(), lr=learning_rate)\n",
        "criterion = nn.CrossEntropyLoss()\n",
        "\n",
        "# training the model\n",
        "trained_rnn = train_rnn(rnn, batch_size, optimizer, criterion, num_epochs, show_every_n_batches)\n",
        "\n",
        "# saving the trained model\n",
        "helper.save_model('./save/trained_rnn', trained_rnn)\n",
        "print('Model Trained and Saved')"
      ],
      "execution_count": 0,
      "outputs": [
        {
          "output_type": "stream",
          "text": [
            "Training for 10 epoch(s)...\n",
            "Epoch:    1/10    Loss: 4.671550504048666\n",
            "\n",
            "Epoch:    2/10    Loss: 4.024584965770217\n",
            "\n",
            "Epoch:    3/10    Loss: 3.7580613145327177\n",
            "\n",
            "Epoch:    4/10    Loss: 3.5746197453388495\n",
            "\n",
            "Epoch:    5/10    Loss: 3.443970764022157\n",
            "\n",
            "Epoch:    6/10    Loss: 3.3344229771561777\n",
            "\n",
            "Epoch:    7/10    Loss: 3.2493326099925843\n",
            "\n",
            "Epoch:    8/10    Loss: 3.1773168408867276\n",
            "\n",
            "Epoch:    9/10    Loss: 3.117021371946573\n",
            "\n",
            "Epoch:   10/10    Loss: 3.0658056023406326\n",
            "\n",
            "Model Trained and Saved\n"
          ],
          "name": "stdout"
        },
        {
          "output_type": "stream",
          "text": [
            "/usr/local/lib/python3.6/dist-packages/torch/serialization.py:251: UserWarning: Couldn't retrieve source code for container of type RNN. It won't be checked for correctness upon loading.\n",
            "  \"type \" + obj.__name__ + \". It won't be checked \"\n"
          ],
          "name": "stderr"
        }
      ]
    },
    {
      "metadata": {
        "id": "GEJYKDlTtoi9",
        "colab_type": "text"
      },
      "cell_type": "markdown",
      "source": [
        "---\n",
        "# Checkpoint"
      ]
    },
    {
      "metadata": {
        "id": "ASXmj_e8tojC",
        "colab_type": "code",
        "colab": {}
      },
      "cell_type": "code",
      "source": [
        "import torch\n",
        "import helper\n",
        "import problem_unittests as tests\n",
        "\n",
        "_, vocab_to_int, int_to_vocab, token_dict = helper.load_preprocess()\n",
        "trained_rnn = helper.load_model('./save/trained_rnn')"
      ],
      "execution_count": 0,
      "outputs": []
    },
    {
      "metadata": {
        "id": "cgZAsZS_tojN",
        "colab_type": "text"
      },
      "cell_type": "markdown",
      "source": [
        "## Generate TV Script\n",
        "\n",
        "### Generate Text"
      ]
    },
    {
      "metadata": {
        "id": "Gmuk_8HstojO",
        "colab_type": "code",
        "colab": {}
      },
      "cell_type": "code",
      "source": [
        "import torch.nn.functional as F\n",
        "\n",
        "def generate(rnn, prime_id, int_to_vocab, token_dict, pad_value, predict_len=100):\n",
        "    \"\"\"\n",
        "    Generate text using the neural network\n",
        "    :param decoder: The PyTorch Module that holds the trained neural network\n",
        "    :param prime_id: The word id to start the first prediction\n",
        "    :param int_to_vocab: Dict of word id keys to word values\n",
        "    :param token_dict: Dict of puncuation tokens keys to puncuation values\n",
        "    :param pad_value: The value used to pad a sequence\n",
        "    :param predict_len: The length of text to generate\n",
        "    :return: The generated text\n",
        "    \"\"\"\n",
        "    rnn.eval()\n",
        "    \n",
        "    # create a sequence (batch_size=1) with the prime_id\n",
        "    current_seq = np.full((1, sequence_length), pad_value)\n",
        "    current_seq[-1][-1] = prime_id\n",
        "    predicted = [int_to_vocab[prime_id]]\n",
        "    \n",
        "    for _ in range(predict_len):\n",
        "        if train_on_gpu:\n",
        "            current_seq = torch.LongTensor(current_seq).cuda()\n",
        "        else:\n",
        "            current_seq = torch.LongTensor(current_seq)\n",
        "        \n",
        "        # initialize the hidden state\n",
        "        hidden = rnn.init_hidden(current_seq.size(0))\n",
        "        \n",
        "        # get the output of the rnn\n",
        "        output, _ = rnn(current_seq, hidden)\n",
        "        \n",
        "        # get the next word probabilities\n",
        "        p = F.softmax(output, dim=1).data\n",
        "        if(train_on_gpu):\n",
        "            p = p.cpu() # move to cpu\n",
        "         \n",
        "        # use top_k sampling to get the index of the next word\n",
        "        top_k = 5\n",
        "        p, top_i = p.topk(top_k)\n",
        "        top_i = top_i.numpy().squeeze()\n",
        "        \n",
        "        # select the likely next word index with some element of randomness\n",
        "        p = p.numpy().squeeze()\n",
        "        word_i = np.random.choice(top_i, p=p/p.sum())\n",
        "        \n",
        "        # retrieve that word from the dictionary\n",
        "        word = int_to_vocab[word_i]\n",
        "        predicted.append(word)     \n",
        "        \n",
        "        # the generated word becomes the next \"current sequence\" and the cycle can continue\n",
        "        current_seq = np.roll(current_seq.cpu(), -1, 1)\n",
        "        current_seq[-1][-1] = word_i\n",
        "    \n",
        "    gen_sentences = ' '.join(predicted)\n",
        "    \n",
        "    # Replace punctuation tokens\n",
        "    for key, token in token_dict.items():\n",
        "        ending = ' ' if key in ['\\n', '(', '\"'] else ''\n",
        "        gen_sentences = gen_sentences.replace(' ' + token.lower(), key)\n",
        "    gen_sentences = gen_sentences.replace('\\n ', '\\n')\n",
        "    gen_sentences = gen_sentences.replace('( ', '(')\n",
        "    \n",
        "    # return all the sentences\n",
        "    return gen_sentences"
      ],
      "execution_count": 0,
      "outputs": []
    },
    {
      "metadata": {
        "id": "nXWKERYwtojV",
        "colab_type": "text"
      },
      "cell_type": "markdown",
      "source": [
        "### Generate a New Script"
      ]
    },
    {
      "metadata": {
        "id": "zb1w1hBLtojX",
        "colab_type": "code",
        "outputId": "db5c422c-bca4-4287-a569-1a8fa0e14311",
        "colab": {
          "base_uri": "https://localhost:8080/",
          "height": 1270
        }
      },
      "cell_type": "code",
      "source": [
        "# run the cell multiple times to get different results!\n",
        "gen_length = 400 # modify the length to your preference\n",
        "prime_word = 'jerry' # name for starting the script\n",
        "pad_word = helper.SPECIAL_WORDS['PADDING']\n",
        "generated_script = generate(trained_rnn, vocab_to_int[prime_word + ':'], int_to_vocab, token_dict, vocab_to_int[pad_word], gen_length)\n",
        "print(generated_script)"
      ],
      "execution_count": 0,
      "outputs": [
        {
          "output_type": "stream",
          "text": [
            "jerry: so...\n",
            "\n",
            "hoyt: so, you know what this country's?\n",
            "\n",
            "jerry: no, no no no no no way to see this.\n",
            "\n",
            "george: yeah.\n",
            "\n",
            "jerry: yeah.\n",
            "\n",
            "george: what are you doing here?\n",
            "\n",
            "jerry: i can't believe you could have gone out to the bathroom, and then he gets a siren on the water cooler bat)\n",
            "\n",
            "jerry: so, what do they think about this?\n",
            "\n",
            "george: yeah, i think you were gonna go anywhere.\n",
            "\n",
            "elaine: yeah, yeah.\n",
            "\n",
            "jerry: what is that?\n",
            "\n",
            "george: no. i can't get the scenes invitations, you know, the jury's becomes a pee- eighth. ]\n",
            "\n",
            "george: i can't believe you got a number on it.\n",
            "\n",
            "george: i was speaking to puerto rico.\n",
            "\n",
            "george: what do you mean?\n",
            "\n",
            "elaine: no, no! no! no!\n",
            "\n",
            "chiles: vanda it.\n",
            "\n",
            "hoyt: you have to do it.\n",
            "\n",
            "elaine: yeah? i don't want it!\n",
            "\n",
            "jerry: i don't know, i was thinking.\n",
            "\n",
            "george: what are you doing?\n",
            "\n",
            "jerry: i was in mortal danger.\n",
            "\n",
            "hoyt: so donald, i got a feeling about that.\n",
            "\n",
            "chiles: objection overruled.\n",
            "\n",
            "jerry: well, i got a nap. this is a travesty of junk.\n",
            "\n",
            "jerry: what did you do?\n",
            "\n",
            "kramer: well, i think i got a 212 call postal femininas. you know, you know, i was in snitzer's bakery now and i have to get it on the plane. i think i would get a call.\n",
            "\n",
            "hoyt: cock fighting?\n",
            "\n",
            "george: i think it's a pee- term.\n",
            "\n",
            "hoyt: uromycitisis- ey.\n",
            "\n",
            "kramer: well, this trial says moops?\n",
            "\n",
            "jerry: yeah!\n",
            "\n",
            "george: i can't believe this is going on.\n",
            "\n",
            "george: yeah, i think it was it. i was carjacked.\n",
            "\n",
            "hoyt: i think i was.\n",
            "\n",
            "hoyt: and\n"
          ],
          "name": "stdout"
        }
      ]
    },
    {
      "metadata": {
        "id": "sRst070Vtoju",
        "colab_type": "text"
      },
      "cell_type": "markdown",
      "source": [
        "#### Save scripts"
      ]
    },
    {
      "metadata": {
        "id": "1iR1VQMytojw",
        "colab_type": "code",
        "colab": {}
      },
      "cell_type": "code",
      "source": [
        "# save script to a text file\n",
        "f =  open(\"generated_script_1.txt\",\"w\")\n",
        "f.write(generated_script)\n",
        "f.close()"
      ],
      "execution_count": 0,
      "outputs": []
    },
    {
      "metadata": {
        "id": "OVrxj9Q6toj7",
        "colab_type": "code",
        "colab": {}
      },
      "cell_type": "code",
      "source": [
        ""
      ],
      "execution_count": 0,
      "outputs": []
    }
  ]
}